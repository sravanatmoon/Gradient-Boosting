{
 "cells": [
  {
   "cell_type": "markdown",
   "metadata": {
    "colab_type": "text",
    "id": "lzkHiSvxLRpi"
   },
   "source": [
    "# Assignment 13: GBDT"
   ]
  },
  {
   "cell_type": "markdown",
   "metadata": {
    "colab_type": "text",
    "id": "DpIBRfOdLVqJ"
   },
   "source": [
    "### Libraries"
   ]
  },
  {
   "cell_type": "code",
   "execution_count": 1,
   "metadata": {
    "colab": {},
    "colab_type": "code",
    "id": "Wa2F25kQLYtx"
   },
   "outputs": [],
   "source": [
    "%matplotlib inline\n",
    "import warnings\n",
    "warnings.filterwarnings(\"ignore\")\n",
    "\n",
    "import plotly.graph_objs as go\n",
    "from wordcloud import WordCloud, STOPWORDS \n",
    "\n",
    "import pickle\n",
    "import numpy as np\n",
    "import pandas as pd\n",
    "from tqdm import tqdm\n",
    "import seaborn as sns\n",
    "import xgboost as xgb\n",
    "import matplotlib.pyplot as plt\n",
    "from  scipy.sparse  import hstack\n",
    "from  scipy.sparse  import vstack\n",
    "\n",
    "from sklearn.metrics import roc_curve, auc\n",
    "from sklearn.tree import DecisionTreeClassifier as DTC\n",
    "from sklearn.preprocessing import StandardScaler\n",
    "from sklearn.metrics import confusion_matrix as c_m\n",
    "from sklearn.model_selection import RandomizedSearchCV\n",
    "from sklearn.feature_extraction.text import TfidfVectorizer\n",
    "from sklearn.feature_extraction.text import CountVectorizer\n",
    "\n",
    "import nltk\n",
    "from nltk.sentiment.vader import SentimentIntensityAnalyzer\n",
    "import tensorflow as tf\n"
   ]
  },
  {
   "cell_type": "markdown",
   "metadata": {
    "colab_type": "text",
    "id": "VPr8xEAeLepU"
   },
   "source": [
    "### Custom Functions"
   ]
  },
  {
   "cell_type": "code",
   "execution_count": 2,
   "metadata": {
    "colab": {},
    "colab_type": "code",
    "id": "rSS4TpjQLhEg"
   },
   "outputs": [],
   "source": [
    "# code to load glove vectors\n",
    "import pickle\n",
    "with open('/content/drive/My Drive/Colab Notebooks/08. NB on Donor Choose/glove_vectors', 'rb') as f:\n",
    "    model = pickle.load(f)\n",
    "    glove_words =  set(model.keys())\n",
    " \n",
    "# TFIDF- Word2Vec\n",
    "def TFIDF_w2v(data, IDF):\n",
    "    with tf.device('/device:GPU:0'):\n",
    "        tfidf_w2v_vectors= []\n",
    "\n",
    "        for sentence in tqdm(data):\n",
    "            vector = np.zeros(300) \n",
    "            tf_idf_weight =0; \n",
    "\n",
    "            for word in sentence.split():\n",
    "                if (word in glove_words) and (word in IDF.keys()):\n",
    "                    tf_idf = IDF[word]*(sentence.count(word)/len(sentence.split())) # getting the tfidf value for each word\n",
    "                    vector += (model[word] * tf_idf) # calculating tfidf weighted w2v\n",
    "                    tf_idf_weight += tf_idf\n",
    "\n",
    "            if tf_idf_weight != 0:\n",
    "                vector /= tf_idf_weight\n",
    "            tfidf_w2v_vectors.append(vector)\n",
    "        return np.array(tfidf_w2v_vectors)"
   ]
  },
  {
   "cell_type": "code",
   "execution_count": 3,
   "metadata": {
    "colab": {},
    "colab_type": "code",
    "id": "NK6-XDRELkbH"
   },
   "outputs": [],
   "source": [
    "def sent_score(data):\n",
    "    sid, lst = SentimentIntensityAnalyzer(), []\n",
    "    for essay in data:\n",
    "        ss = sid.polarity_scores(essay)\n",
    "        sent = list(ss.values())\n",
    "        lst.append(sent)\n",
    "    return lst"
   ]
  },
  {
   "cell_type": "code",
   "execution_count": 4,
   "metadata": {
    "colab": {},
    "colab_type": "code",
    "id": "Ig33tOQQLnq2"
   },
   "outputs": [],
   "source": [
    "def Vectorise(feature, Data, Y_train):\n",
    "    with tf.device('/device:GPU:0'):\n",
    "        ful_lst = X_train[feature].values\n",
    "        lst = np.unique(ful_lst)\n",
    "        Pos = {} ; Encod = {}\n",
    "        for ele in lst:\n",
    "            Pos[ele]=[0,0]\n",
    "        for i in range(len(Data)):\n",
    "            for ele in lst:\n",
    "                if ele == ful_lst[i] : \n",
    "                    Pos[ele][1] +=1\n",
    "                    if Y_train[i] ==1: Pos[ele][0] +=1\n",
    "        for ele in lst:\n",
    "            Encod[ele] = Pos[ele][0]/Pos[ele][1]\n",
    "        return Encod, feature\n",
    "\n",
    "def Fit_resp(Data, resp):\n",
    "    feature_ = []\n",
    "    for ele in Data[resp[1]].values:\n",
    "        try: feature_.append([resp[0][ele], 1-resp[0][ele]])\n",
    "        except: feature_.append([1/2, 1/2])\n",
    "    return feature_"
   ]
  },
  {
   "cell_type": "code",
   "execution_count": 5,
   "metadata": {
    "colab": {},
    "colab_type": "code",
    "id": "EfeNhmYqLpy9"
   },
   "outputs": [],
   "source": [
    "def Concatenate(X_train_essay, X_test_essay):\n",
    "    X_tr = hstack((X_train_essay,Tr_sent, X_train_state_rp, X_train_tchr_rp, X_train_pgc_rp, \n",
    "                   X_train_clc_rp, X_train_clsc_rp, X_tr_Num)).tocsr()\n",
    "    X_te = hstack((X_test_essay, Te_sent, X_test_state_rp, X_test_tchr_rp, X_test_pgc_rp, \n",
    "                   X_test_clc_rp, X_test_clsc_rp, X_tst_Num)).tocsr()\n",
    "\n",
    "    print(\"Final Data matrix\")\n",
    "    print(X_tr.shape, Y_train.shape)\n",
    "    print(X_te.shape, Y_test.shape)\n",
    "    return X_tr, X_te"
   ]
  },
  {
   "cell_type": "code",
   "execution_count": 6,
   "metadata": {
    "colab": {},
    "colab_type": "code",
    "id": "HmOuj-AFLsW3"
   },
   "outputs": [],
   "source": [
    "def Results_Random_Search(X_tr, Y_train):\n",
    "    with tf.device('/device:GPU:0'):\n",
    "        XGB = xgb.XGBClassifier(subsample =0.5, colsample_bytree= 0.5, max_depth=5, \n",
    "                                reg_lambda=10, reg_alpha=10) \n",
    "        Hyp_param = {'n_estimators' : [5,10,50,75, 100], \n",
    "                     'learning_rate' : [0.0001, 0.001, 0.01, 0.1, 0.2, 0.3],}\n",
    "        \"\"\" 'reg_lambda':[10**i for i in range(0,4)], \n",
    "        'reg_alpha' : [10**i for i in range(0,4)], \n",
    "        'max_depth'  : [1,3,5,10],\n",
    "        'subsample' :[0.2, 0.5],\n",
    "        'colsample_bytree' : [0.2, 0.5]}\"\"\"\n",
    "        num_round = 10\n",
    "\n",
    "        clf = RandomizedSearchCV(XGB, Hyp_param, cv=2, n_jobs = -1, verbose = 1, \n",
    "                                 scoring='roc_auc', return_train_score=True, \n",
    "                                 refit=True, random_state=7)\n",
    "        clf.fit(X_tr, Y_train)\n",
    "        return clf"
   ]
  },
  {
   "cell_type": "code",
   "execution_count": 7,
   "metadata": {
    "colab": {},
    "colab_type": "code",
    "id": "qcIgNpLhL1ul"
   },
   "outputs": [],
   "source": [
    "def plot_Hyperparam_vs_AUC(clf):\n",
    "    cv_results = pd.DataFrame.from_dict(clf.cv_results_)\n",
    "    mxid = np.argmax(cv_results[\"mean_test_score\"])\n",
    "    print(cv_results.iloc[mxid]['params'])\n",
    "    train_auc= cv_results['mean_train_score'].astype(float) \n",
    "    \n",
    "    cv_auc = cv_results['mean_test_score'].astype(float) \n",
    "    n_estimators =  cv_results[\"param_n_estimators\"].astype(float)\n",
    "    learning_rate =  cv_results[\"param_learning_rate\"].astype(float)\n",
    "\n",
    "    # https://plot.ly/python/3d-axes/\n",
    "    trace1 = go.Scatter3d(x=n_estimators,y=learning_rate,z=train_auc, name = 'train')\n",
    "    trace2 = go.Scatter3d(x=n_estimators,y=learning_rate,z=cv_auc, name = 'Cross validation')\n",
    "    data = [trace1, trace2]\n",
    "\n",
    "    layout = go.Layout(scene = dict( xaxis = dict(title='n_estimators'),\n",
    "                                     yaxis = dict(title='learning_rate'),\n",
    "                                     zaxis = dict(title='AUC')))\n",
    "\n",
    "    fig = go.Figure(data=data, layout=layout) \n",
    "    fig.show()"
   ]
  },
  {
   "cell_type": "code",
   "execution_count": 8,
   "metadata": {
    "colab": {},
    "colab_type": "code",
    "id": "WiiIf7roMDGE"
   },
   "outputs": [],
   "source": [
    "def plot_ROC_curve(clf, X_tr,X_te,Y_train,Y_test):\n",
    "    with tf.device('/device:GPU:0'):\n",
    "        #clf.fit(X_tr, Y_train)\n",
    "\n",
    "        Y_train_pred = clf.predict_proba(X_tr)[:,1]\n",
    "        Y_test_pred = clf.predict_proba(X_te)[:,1]\n",
    "\n",
    "        tr_fpr, tr_tpr, tr_thr = roc_curve(Y_train, Y_train_pred)\n",
    "        tst_fpr, tst_tpr, te_thr = roc_curve(Y_test, Y_test_pred)\n",
    "        \n",
    "        plt.plot(tr_fpr, tr_tpr, label=\"Train AUC =\"+str(auc(tr_fpr, tr_tpr)))\n",
    "        plt.plot(tst_fpr, tst_tpr, label=\"Test AUC =\"+str(auc(tst_fpr, tst_tpr)))\n",
    "        plt.grid() ; plt.legend()\n",
    "        plt.xlabel(\"fpr\") ;plt.ylabel(\"tpr\") ;plt.title(\"ROC Curve\")\n",
    "        plt.show()\n",
    "        return Y_train_pred, Y_test_pred, tr_fpr, tr_tpr, tr_thr"
   ]
  },
  {
   "cell_type": "code",
   "execution_count": 9,
   "metadata": {
    "colab": {},
    "colab_type": "code",
    "id": "SAv2-BroMFe9"
   },
   "outputs": [],
   "source": [
    "def find_best_threshold(threshould, fpr, tpr):     # finds the Optimum t \n",
    "    t = threshould[np.argmax((tpr*(1-fpr)))]  \n",
    "    print(\"the maximum value of tpr*(1-fpr)\", max(tpr*(1-fpr)), \"for threshold\", np.round(t,3))\n",
    "    return t\n",
    "\n",
    "def Predict(proba, thr, Y):  # Predicts using the Optimum t \n",
    "    pred = []\n",
    "    FP_ind = []\n",
    "    for i in range(len(proba)):\n",
    "        if proba[i]>=thr: pred.append(1)\n",
    "        else:             pred.append(0)\n",
    "        if pred[i] == 0 and Y[i] ==1:\n",
    "            FP_ind.append(i)\n",
    "    return pred, FP_ind"
   ]
  },
  {
   "cell_type": "code",
   "execution_count": 10,
   "metadata": {
    "colab": {},
    "colab_type": "code",
    "id": "wsgxR9i3MH4g"
   },
   "outputs": [],
   "source": [
    "def plot_conf_mat(Train, Test):\n",
    "    plt.figure(figsize = (16,8))\n",
    "    plt.subplot(221) ;  plt.title('Train : Confusion Matrix ')\n",
    "    sns.heatmap(Train, annot=True, fmt=\"d\", cmap=\"YlGnBu\", square=True,xticklabels=['Negative', 'Positive'], yticklabels=['Negative', 'Positive'])\n",
    "    plt.xlabel(\"Actual\") ;plt.ylabel('Predcted')\n",
    "    plt.subplot(222) ; plt.title('Test : Confusion Matrix ') ;\n",
    "    sns.heatmap(Test, annot=True, fmt=\"d\", cmap=\"YlGnBu\", square=True, xticklabels=['Negative', 'Positive'], yticklabels=['Negative', 'Positive'])\n",
    "    plt.xlabel(\"Actual\") ;plt.ylabel('Predcted')"
   ]
  },
  {
   "cell_type": "markdown",
   "metadata": {
    "colab_type": "text",
    "id": "YEdCS5edMKpJ"
   },
   "source": [
    "# 1. GBDT (xgboost/lightgbm)"
   ]
  },
  {
   "cell_type": "markdown",
   "metadata": {
    "colab_type": "text",
    "id": "N_7nDkBeMPZg"
   },
   "source": [
    "## 1.1 Loading Data"
   ]
  },
  {
   "cell_type": "code",
   "execution_count": 11,
   "metadata": {
    "colab": {},
    "colab_type": "code",
    "id": "7y7FliNVMRyS"
   },
   "outputs": [],
   "source": [
    "data = pd.read_csv('/content/drive/My Drive/Colab Notebooks/11. DT on Donor Choose/preprocessed_data.csv')\n",
    "X = data.drop(['project_is_approved'], axis=1)\n",
    "Y = data['project_is_approved'].values"
   ]
  },
  {
   "cell_type": "markdown",
   "metadata": {
    "colab_type": "text",
    "id": "PfifDIC5MUh_"
   },
   "source": [
    "## 1.2 Splitting data into Train and cross validation(or test): Stratified Sampling"
   ]
  },
  {
   "cell_type": "code",
   "execution_count": 12,
   "metadata": {
    "colab": {},
    "colab_type": "code",
    "id": "-yVnmLwJMXTA"
   },
   "outputs": [],
   "source": [
    "from sklearn.model_selection import train_test_split\n",
    "X_train, X_test, Y_train, Y_test = train_test_split(X, Y, test_size=0.3, stratify=Y) # Train 70% , test 30%"
   ]
  },
  {
   "cell_type": "markdown",
   "metadata": {
    "colab_type": "text",
    "id": "dkBHW0_kMbR9"
   },
   "source": [
    "## 1.3 Make Data Model Ready: encoding eassay, and project_title\n"
   ]
  },
  {
   "cell_type": "code",
   "execution_count": 13,
   "metadata": {
    "colab": {
     "base_uri": "https://localhost:8080/",
     "height": 35
    },
    "colab_type": "code",
    "id": "28qRF32OMehl",
    "outputId": "812ba769-1803-433c-fe02-93a2fe6ccd00"
   },
   "outputs": [
    {
     "name": "stdout",
     "output_type": "stream",
     "text": [
      "(76473, 10000) (32775, 10000)\n"
     ]
    }
   ],
   "source": [
    "# extracting unique words from the Train dataset. \n",
    "vectorizer = TfidfVectorizer(min_df=10,ngram_range=(1,2), max_features=10000)\n",
    "X_train_essay_tfidf = vectorizer.fit_transform(X_train['essay'].values) \n",
    "X_test_essay_tfidf = vectorizer.transform(X_test['essay'].values) # we use the fitted CountVectorizer to convert the text to vector\n",
    "\n",
    "print(X_train_essay_tfidf.shape, X_test_essay_tfidf.shape)"
   ]
  },
  {
   "cell_type": "code",
   "execution_count": 14,
   "metadata": {
    "colab": {
     "base_uri": "https://localhost:8080/",
     "height": 35
    },
    "colab_type": "code",
    "id": "Tx7R1bk6Mh6x",
    "outputId": "d6c6715e-0aa0-47f3-861f-bd191b79c374"
   },
   "outputs": [
    {
     "name": "stdout",
     "output_type": "stream",
     "text": [
      "[nltk_data] Downloading package vader_lexicon to /root/nltk_data...\n"
     ]
    }
   ],
   "source": [
    "nltk.download('vader_lexicon')  # use if error \n",
    "Tr_sent = sent_score(X_train['essay'])\n",
    "Te_sent = sent_score(X_test['essay'])"
   ]
  },
  {
   "cell_type": "markdown",
   "metadata": {
    "colab_type": "text",
    "id": "Va3rFU3UMlcp"
   },
   "source": [
    "## 1.4 Make Data Model Ready: encoding numerical, categorical features"
   ]
  },
  {
   "cell_type": "markdown",
   "metadata": {
    "colab_type": "text",
    "id": "vzxjUpgxMpQd"
   },
   "source": [
    "### Encoding  Categorical by Responce Coding\n"
   ]
  },
  {
   "cell_type": "code",
   "execution_count": 15,
   "metadata": {
    "colab": {},
    "colab_type": "code",
    "id": "QCmGHqI-Mk8j"
   },
   "outputs": [],
   "source": [
    "sst = Vectorise('school_state', X_train, Y_train)\n",
    "X_train_state_rp = Fit_resp(X_train, sst)\n",
    "X_test_state_rp = Fit_resp(X_test, sst)\n",
    "\n",
    "tchr = Vectorise('teacher_prefix', X_train, Y_train)\n",
    "X_train_tchr_rp = Fit_resp(X_train, tchr)\n",
    "X_test_tchr_rp = Fit_resp(X_test, tchr)\n",
    "\n",
    "pgc = Vectorise('project_grade_category', X_train, Y_train)\n",
    "X_train_pgc_rp = Fit_resp(X_train, pgc)\n",
    "X_test_pgc_rp = Fit_resp(X_test, pgc)\n",
    "\n",
    "clc = Vectorise('clean_categories', X_train, Y_train)\n",
    "X_train_clc_rp = Fit_resp(X_train, clc)\n",
    "X_test_clc_rp = Fit_resp(X_test, clc)\n",
    "\n",
    "clsc = Vectorise('clean_subcategories', X_train, Y_train)\n",
    "X_train_clsc_rp = Fit_resp(X_train, clsc)\n",
    "X_test_clsc_rp = Fit_resp(X_test, clsc)\n"
   ]
  },
  {
   "cell_type": "markdown",
   "metadata": {
    "colab_type": "text",
    "id": "xXLvQcI1Mtlc"
   },
   "source": [
    "### Encoding numerical"
   ]
  },
  {
   "cell_type": "code",
   "execution_count": 16,
   "metadata": {
    "colab": {
     "base_uri": "https://localhost:8080/",
     "height": 72
    },
    "colab_type": "code",
    "id": "CP2QqIjCMvik",
    "outputId": "05a947d5-3ded-40ce-ea45-10f892dee7f8"
   },
   "outputs": [
    {
     "name": "stdout",
     "output_type": "stream",
     "text": [
      "(76473,) (32775,)\n",
      "(76473,) (32775,)\n",
      "(76473, 2) (32775, 2)\n"
     ]
    }
   ],
   "source": [
    "# Price: Normalising the vectros between 0 and 1\n",
    "Mx, Mn = X_train['price'].max(), X_train['price'].min()\n",
    "X_train_price_norm = ((X_train['price'] - Mn)/(Mx - Mn))\n",
    "X_test_price_norm = ((X_test['price'] - Mn)/(Mx - Mn))\n",
    "\n",
    "# No of projects posted by teachers: Normalising the vectros between 0 and 1\n",
    "mx, mn = X_train['teacher_number_of_previously_posted_projects'].max(), X_train['teacher_number_of_previously_posted_projects'].min()\n",
    "X_train_tnpp_norm = ((X_train['teacher_number_of_previously_posted_projects'] - mn)/(mx - mn))\n",
    "X_test_tnpp_norm = ((X_test['teacher_number_of_previously_posted_projects'] - mn)/(mx - mn))\n",
    "\n",
    "# Combining the Numerical features\n",
    "X_tr_Num = np.array([X_train_tnpp_norm, X_train_price_norm]).T\n",
    "X_tst_Num = np.array([X_test_tnpp_norm, X_test_price_norm]).T\n",
    "\n",
    "print(X_train_price_norm.shape, X_test_price_norm.shape)\n",
    "print(X_train_tnpp_norm.shape, X_test_tnpp_norm.shape)\n",
    "print(X_tr_Num.shape, X_tst_Num.shape)"
   ]
  },
  {
   "cell_type": "code",
   "execution_count": 16,
   "metadata": {
    "colab": {},
    "colab_type": "code",
    "id": "BeWGVaUnkI3K"
   },
   "outputs": [],
   "source": []
  },
  {
   "cell_type": "markdown",
   "metadata": {
    "colab_type": "text",
    "id": "25NSxOO-M4pU"
   },
   "source": [
    "## 1.5 Appling Models on different kind of featurization as mentioned in the instructions"
   ]
  },
  {
   "cell_type": "code",
   "execution_count": 17,
   "metadata": {
    "colab": {
     "base_uri": "https://localhost:8080/",
     "height": 127
    },
    "colab_type": "code",
    "id": "h5xjMWqKM9aO",
    "outputId": "f6e2abd9-ba4f-4b54-8dde-90a197afa65b"
   },
   "outputs": [
    {
     "name": "stdout",
     "output_type": "stream",
     "text": [
      "Final Data matrix\n",
      "(76473, 10016) (76473,)\n",
      "(32775, 10016) (32775,)\n",
      "Fitting 2 folds for each of 10 candidates, totalling 20 fits\n"
     ]
    },
    {
     "name": "stderr",
     "output_type": "stream",
     "text": [
      "[Parallel(n_jobs=-1)]: Using backend LokyBackend with 2 concurrent workers.\n",
      "[Parallel(n_jobs=-1)]: Done  20 out of  20 | elapsed: 10.5min finished\n"
     ]
    }
   ],
   "source": [
    "X_tr, X_te = Concatenate(X_train_essay_tfidf, X_test_essay_tfidf)\n",
    "clf = Results_Random_Search(X_tr, Y_train)"
   ]
  },
  {
   "cell_type": "code",
   "execution_count": 18,
   "metadata": {
    "colab": {
     "base_uri": "https://localhost:8080/",
     "height": 560
    },
    "colab_type": "code",
    "id": "p9ZW2FpONDD7",
    "outputId": "75134bc6-4991-48d2-a2e0-9ea3cfc6d980"
   },
   "outputs": [
    {
     "name": "stdout",
     "output_type": "stream",
     "text": [
      "{'n_estimators': 100, 'learning_rate': 0.2}\n"
     ]
    },
    {
     "data": {
      "text/html": [
       "<html>\n",
       "<head><meta charset=\"utf-8\" /></head>\n",
       "<body>\n",
       "    <div>\n",
       "            <script src=\"https://cdnjs.cloudflare.com/ajax/libs/mathjax/2.7.5/MathJax.js?config=TeX-AMS-MML_SVG\"></script><script type=\"text/javascript\">if (window.MathJax) {MathJax.Hub.Config({SVG: {font: \"STIX-Web\"}});}</script>\n",
       "                <script type=\"text/javascript\">window.PlotlyConfig = {MathJaxConfig: 'local'};</script>\n",
       "        <script src=\"https://cdn.plot.ly/plotly-latest.min.js\"></script>    \n",
       "            <div id=\"58403711-c999-4bf0-b1b7-9c0521f13771\" class=\"plotly-graph-div\" style=\"height:525px; width:100%;\"></div>\n",
       "            <script type=\"text/javascript\">\n",
       "                \n",
       "                    window.PLOTLYENV=window.PLOTLYENV || {};\n",
       "                    \n",
       "                if (document.getElementById(\"58403711-c999-4bf0-b1b7-9c0521f13771\")) {\n",
       "                    Plotly.newPlot(\n",
       "                        '58403711-c999-4bf0-b1b7-9c0521f13771',\n",
       "                        [{\"name\": \"train\", \"type\": \"scatter3d\", \"x\": [50.0, 50.0, 10.0, 100.0, 10.0, 5.0, 75.0, 100.0, 50.0, 100.0], \"y\": [0.0001, 0.1, 0.0001, 0.001, 0.01, 0.001, 0.1, 0.2, 0.3, 0.3], \"z\": [0.6661736557954472, 0.752048631904128, 0.6460249075855227, 0.6743564152775662, 0.6477191763652181, 0.6174261374380086, 0.7722816304561597, 0.8267771896327996, 0.7978963757105654, 0.8505847669219004]}, {\"name\": \"Cross validation\", \"type\": \"scatter3d\", \"x\": [50.0, 50.0, 10.0, 100.0, 10.0, 5.0, 75.0, 100.0, 50.0, 100.0], \"y\": [0.0001, 0.1, 0.0001, 0.001, 0.01, 0.001, 0.1, 0.2, 0.3, 0.3], \"z\": [0.6383208420676855, 0.6996640980658921, 0.6262024744039179, 0.6445059142233492, 0.6278050003672699, 0.6040125403054233, 0.7079964629074489, 0.7112129364743124, 0.7057071005713281, 0.7039975277055914]}],\n",
       "                        {\"scene\": {\"xaxis\": {\"title\": {\"text\": \"n_estimators\"}}, \"yaxis\": {\"title\": {\"text\": \"learning_rate\"}}, \"zaxis\": {\"title\": {\"text\": \"AUC\"}}}, \"template\": {\"data\": {\"bar\": [{\"error_x\": {\"color\": \"#2a3f5f\"}, \"error_y\": {\"color\": \"#2a3f5f\"}, \"marker\": {\"line\": {\"color\": \"#E5ECF6\", \"width\": 0.5}}, \"type\": \"bar\"}], \"barpolar\": [{\"marker\": {\"line\": {\"color\": \"#E5ECF6\", \"width\": 0.5}}, \"type\": \"barpolar\"}], \"carpet\": [{\"aaxis\": {\"endlinecolor\": \"#2a3f5f\", \"gridcolor\": \"white\", \"linecolor\": \"white\", \"minorgridcolor\": \"white\", \"startlinecolor\": \"#2a3f5f\"}, \"baxis\": {\"endlinecolor\": \"#2a3f5f\", \"gridcolor\": \"white\", \"linecolor\": \"white\", \"minorgridcolor\": \"white\", \"startlinecolor\": \"#2a3f5f\"}, \"type\": \"carpet\"}], \"choropleth\": [{\"colorbar\": {\"outlinewidth\": 0, \"ticks\": \"\"}, \"type\": \"choropleth\"}], \"contour\": [{\"colorbar\": {\"outlinewidth\": 0, \"ticks\": \"\"}, \"colorscale\": [[0.0, \"#0d0887\"], [0.1111111111111111, \"#46039f\"], [0.2222222222222222, \"#7201a8\"], [0.3333333333333333, \"#9c179e\"], [0.4444444444444444, \"#bd3786\"], [0.5555555555555556, \"#d8576b\"], [0.6666666666666666, \"#ed7953\"], [0.7777777777777778, \"#fb9f3a\"], [0.8888888888888888, \"#fdca26\"], [1.0, \"#f0f921\"]], \"type\": \"contour\"}], \"contourcarpet\": [{\"colorbar\": {\"outlinewidth\": 0, \"ticks\": \"\"}, \"type\": \"contourcarpet\"}], \"heatmap\": [{\"colorbar\": {\"outlinewidth\": 0, \"ticks\": \"\"}, \"colorscale\": [[0.0, \"#0d0887\"], [0.1111111111111111, \"#46039f\"], [0.2222222222222222, \"#7201a8\"], [0.3333333333333333, \"#9c179e\"], [0.4444444444444444, \"#bd3786\"], [0.5555555555555556, \"#d8576b\"], [0.6666666666666666, \"#ed7953\"], [0.7777777777777778, \"#fb9f3a\"], [0.8888888888888888, \"#fdca26\"], [1.0, \"#f0f921\"]], \"type\": \"heatmap\"}], \"heatmapgl\": [{\"colorbar\": {\"outlinewidth\": 0, \"ticks\": \"\"}, \"colorscale\": [[0.0, \"#0d0887\"], [0.1111111111111111, \"#46039f\"], [0.2222222222222222, \"#7201a8\"], [0.3333333333333333, \"#9c179e\"], [0.4444444444444444, \"#bd3786\"], [0.5555555555555556, \"#d8576b\"], [0.6666666666666666, \"#ed7953\"], [0.7777777777777778, \"#fb9f3a\"], [0.8888888888888888, \"#fdca26\"], [1.0, \"#f0f921\"]], \"type\": \"heatmapgl\"}], \"histogram\": [{\"marker\": {\"colorbar\": {\"outlinewidth\": 0, \"ticks\": \"\"}}, \"type\": \"histogram\"}], \"histogram2d\": [{\"colorbar\": {\"outlinewidth\": 0, \"ticks\": \"\"}, \"colorscale\": [[0.0, \"#0d0887\"], [0.1111111111111111, \"#46039f\"], [0.2222222222222222, \"#7201a8\"], [0.3333333333333333, \"#9c179e\"], [0.4444444444444444, \"#bd3786\"], [0.5555555555555556, \"#d8576b\"], [0.6666666666666666, \"#ed7953\"], [0.7777777777777778, \"#fb9f3a\"], [0.8888888888888888, \"#fdca26\"], [1.0, \"#f0f921\"]], \"type\": \"histogram2d\"}], \"histogram2dcontour\": [{\"colorbar\": {\"outlinewidth\": 0, \"ticks\": \"\"}, \"colorscale\": [[0.0, \"#0d0887\"], [0.1111111111111111, \"#46039f\"], [0.2222222222222222, \"#7201a8\"], [0.3333333333333333, \"#9c179e\"], [0.4444444444444444, \"#bd3786\"], [0.5555555555555556, \"#d8576b\"], [0.6666666666666666, \"#ed7953\"], [0.7777777777777778, \"#fb9f3a\"], [0.8888888888888888, \"#fdca26\"], [1.0, \"#f0f921\"]], \"type\": \"histogram2dcontour\"}], \"mesh3d\": [{\"colorbar\": {\"outlinewidth\": 0, \"ticks\": \"\"}, \"type\": \"mesh3d\"}], \"parcoords\": [{\"line\": {\"colorbar\": {\"outlinewidth\": 0, \"ticks\": \"\"}}, \"type\": \"parcoords\"}], \"pie\": [{\"automargin\": true, \"type\": \"pie\"}], \"scatter\": [{\"marker\": {\"colorbar\": {\"outlinewidth\": 0, \"ticks\": \"\"}}, \"type\": \"scatter\"}], \"scatter3d\": [{\"line\": {\"colorbar\": {\"outlinewidth\": 0, \"ticks\": \"\"}}, \"marker\": {\"colorbar\": {\"outlinewidth\": 0, \"ticks\": \"\"}}, \"type\": \"scatter3d\"}], \"scattercarpet\": [{\"marker\": {\"colorbar\": {\"outlinewidth\": 0, \"ticks\": \"\"}}, \"type\": \"scattercarpet\"}], \"scattergeo\": [{\"marker\": {\"colorbar\": {\"outlinewidth\": 0, \"ticks\": \"\"}}, \"type\": \"scattergeo\"}], \"scattergl\": [{\"marker\": {\"colorbar\": {\"outlinewidth\": 0, \"ticks\": \"\"}}, \"type\": \"scattergl\"}], \"scattermapbox\": [{\"marker\": {\"colorbar\": {\"outlinewidth\": 0, \"ticks\": \"\"}}, \"type\": \"scattermapbox\"}], \"scatterpolar\": [{\"marker\": {\"colorbar\": {\"outlinewidth\": 0, \"ticks\": \"\"}}, \"type\": \"scatterpolar\"}], \"scatterpolargl\": [{\"marker\": {\"colorbar\": {\"outlinewidth\": 0, \"ticks\": \"\"}}, \"type\": \"scatterpolargl\"}], \"scatterternary\": [{\"marker\": {\"colorbar\": {\"outlinewidth\": 0, \"ticks\": \"\"}}, \"type\": \"scatterternary\"}], \"surface\": [{\"colorbar\": {\"outlinewidth\": 0, \"ticks\": \"\"}, \"colorscale\": [[0.0, \"#0d0887\"], [0.1111111111111111, \"#46039f\"], [0.2222222222222222, \"#7201a8\"], [0.3333333333333333, \"#9c179e\"], [0.4444444444444444, \"#bd3786\"], [0.5555555555555556, \"#d8576b\"], [0.6666666666666666, \"#ed7953\"], [0.7777777777777778, \"#fb9f3a\"], [0.8888888888888888, \"#fdca26\"], [1.0, \"#f0f921\"]], \"type\": \"surface\"}], \"table\": [{\"cells\": {\"fill\": {\"color\": \"#EBF0F8\"}, \"line\": {\"color\": \"white\"}}, \"header\": {\"fill\": {\"color\": \"#C8D4E3\"}, \"line\": {\"color\": \"white\"}}, \"type\": \"table\"}]}, \"layout\": {\"annotationdefaults\": {\"arrowcolor\": \"#2a3f5f\", \"arrowhead\": 0, \"arrowwidth\": 1}, \"coloraxis\": {\"colorbar\": {\"outlinewidth\": 0, \"ticks\": \"\"}}, \"colorscale\": {\"diverging\": [[0, \"#8e0152\"], [0.1, \"#c51b7d\"], [0.2, \"#de77ae\"], [0.3, \"#f1b6da\"], [0.4, \"#fde0ef\"], [0.5, \"#f7f7f7\"], [0.6, \"#e6f5d0\"], [0.7, \"#b8e186\"], [0.8, \"#7fbc41\"], [0.9, \"#4d9221\"], [1, \"#276419\"]], \"sequential\": [[0.0, \"#0d0887\"], [0.1111111111111111, \"#46039f\"], [0.2222222222222222, \"#7201a8\"], [0.3333333333333333, \"#9c179e\"], [0.4444444444444444, \"#bd3786\"], [0.5555555555555556, \"#d8576b\"], [0.6666666666666666, \"#ed7953\"], [0.7777777777777778, \"#fb9f3a\"], [0.8888888888888888, \"#fdca26\"], [1.0, \"#f0f921\"]], \"sequentialminus\": [[0.0, \"#0d0887\"], [0.1111111111111111, \"#46039f\"], [0.2222222222222222, \"#7201a8\"], [0.3333333333333333, \"#9c179e\"], [0.4444444444444444, \"#bd3786\"], [0.5555555555555556, \"#d8576b\"], [0.6666666666666666, \"#ed7953\"], [0.7777777777777778, \"#fb9f3a\"], [0.8888888888888888, \"#fdca26\"], [1.0, \"#f0f921\"]]}, \"colorway\": [\"#636efa\", \"#EF553B\", \"#00cc96\", \"#ab63fa\", \"#FFA15A\", \"#19d3f3\", \"#FF6692\", \"#B6E880\", \"#FF97FF\", \"#FECB52\"], \"font\": {\"color\": \"#2a3f5f\"}, \"geo\": {\"bgcolor\": \"white\", \"lakecolor\": \"white\", \"landcolor\": \"#E5ECF6\", \"showlakes\": true, \"showland\": true, \"subunitcolor\": \"white\"}, \"hoverlabel\": {\"align\": \"left\"}, \"hovermode\": \"closest\", \"mapbox\": {\"style\": \"light\"}, \"paper_bgcolor\": \"white\", \"plot_bgcolor\": \"#E5ECF6\", \"polar\": {\"angularaxis\": {\"gridcolor\": \"white\", \"linecolor\": \"white\", \"ticks\": \"\"}, \"bgcolor\": \"#E5ECF6\", \"radialaxis\": {\"gridcolor\": \"white\", \"linecolor\": \"white\", \"ticks\": \"\"}}, \"scene\": {\"xaxis\": {\"backgroundcolor\": \"#E5ECF6\", \"gridcolor\": \"white\", \"gridwidth\": 2, \"linecolor\": \"white\", \"showbackground\": true, \"ticks\": \"\", \"zerolinecolor\": \"white\"}, \"yaxis\": {\"backgroundcolor\": \"#E5ECF6\", \"gridcolor\": \"white\", \"gridwidth\": 2, \"linecolor\": \"white\", \"showbackground\": true, \"ticks\": \"\", \"zerolinecolor\": \"white\"}, \"zaxis\": {\"backgroundcolor\": \"#E5ECF6\", \"gridcolor\": \"white\", \"gridwidth\": 2, \"linecolor\": \"white\", \"showbackground\": true, \"ticks\": \"\", \"zerolinecolor\": \"white\"}}, \"shapedefaults\": {\"line\": {\"color\": \"#2a3f5f\"}}, \"ternary\": {\"aaxis\": {\"gridcolor\": \"white\", \"linecolor\": \"white\", \"ticks\": \"\"}, \"baxis\": {\"gridcolor\": \"white\", \"linecolor\": \"white\", \"ticks\": \"\"}, \"bgcolor\": \"#E5ECF6\", \"caxis\": {\"gridcolor\": \"white\", \"linecolor\": \"white\", \"ticks\": \"\"}}, \"title\": {\"x\": 0.05}, \"xaxis\": {\"automargin\": true, \"gridcolor\": \"white\", \"linecolor\": \"white\", \"ticks\": \"\", \"title\": {\"standoff\": 15}, \"zerolinecolor\": \"white\", \"zerolinewidth\": 2}, \"yaxis\": {\"automargin\": true, \"gridcolor\": \"white\", \"linecolor\": \"white\", \"ticks\": \"\", \"title\": {\"standoff\": 15}, \"zerolinecolor\": \"white\", \"zerolinewidth\": 2}}}},\n",
       "                        {\"responsive\": true}\n",
       "                    ).then(function(){\n",
       "                            \n",
       "var gd = document.getElementById('58403711-c999-4bf0-b1b7-9c0521f13771');\n",
       "var x = new MutationObserver(function (mutations, observer) {{\n",
       "        var display = window.getComputedStyle(gd).display;\n",
       "        if (!display || display === 'none') {{\n",
       "            console.log([gd, 'removed!']);\n",
       "            Plotly.purge(gd);\n",
       "            observer.disconnect();\n",
       "        }}\n",
       "}});\n",
       "\n",
       "// Listen for the removal of the full notebook cells\n",
       "var notebookContainer = gd.closest('#notebook-container');\n",
       "if (notebookContainer) {{\n",
       "    x.observe(notebookContainer, {childList: true});\n",
       "}}\n",
       "\n",
       "// Listen for the clearing of the current output cell\n",
       "var outputEl = gd.closest('.output');\n",
       "if (outputEl) {{\n",
       "    x.observe(outputEl, {childList: true});\n",
       "}}\n",
       "\n",
       "                        })\n",
       "                };\n",
       "                \n",
       "            </script>\n",
       "        </div>\n",
       "</body>\n",
       "</html>"
      ]
     },
     "metadata": {
      "tags": []
     },
     "output_type": "display_data"
    }
   ],
   "source": [
    "Opt_params   = plot_Hyperparam_vs_AUC(clf)"
   ]
  },
  {
   "cell_type": "markdown",
   "metadata": {
    "colab_type": "text",
    "id": "VtIB7ZZ3NGum"
   },
   "source": [
    "### Performance Testing"
   ]
  },
  {
   "cell_type": "code",
   "execution_count": 19,
   "metadata": {
    "colab": {
     "base_uri": "https://localhost:8080/",
     "height": 295
    },
    "colab_type": "code",
    "id": "2YeZ7-q2NEPc",
    "outputId": "4f75bd5a-b4aa-461e-c6c9-65905f39b7c8"
   },
   "outputs": [
    {
     "data": {
      "image/png": "[encoded data removed]",
      "text/plain": [
       "<Figure size 432x288 with 1 Axes>"
      ]
     },
     "metadata": {
      "needs_background": "light",
      "tags": []
     },
     "output_type": "display_data"
    }
   ],
   "source": [
    "R = plot_ROC_curve(clf, X_tr,X_te,Y_train,Y_test)"
   ]
  },
  {
   "cell_type": "markdown",
   "metadata": {
    "colab_type": "text",
    "id": "3MFvMYbiNKd2"
   },
   "source": [
    "### Confusion Matrix"
   ]
  },
  {
   "cell_type": "code",
   "execution_count": 20,
   "metadata": {
    "colab": {
     "base_uri": "https://localhost:8080/",
     "height": 294
    },
    "colab_type": "code",
    "id": "WJRLbs5LNQKT",
    "outputId": "b5741d02-09ef-44f3-a4b0-41cf055c6d0b"
   },
   "outputs": [
    {
     "name": "stdout",
     "output_type": "stream",
     "text": [
      "the maximum value of tpr*(1-fpr) 0.5229132223366602 for threshold 0.835\n"
     ]
    },
    {
     "data": {
      "image/png": "[encoded data removed]",
      "text/plain": [
       "<Figure size 1152x576 with 4 Axes>"
      ]
     },
     "metadata": {
      "needs_background": "light",
      "tags": []
     },
     "output_type": "display_data"
    }
   ],
   "source": [
    "Y_train_pred, Y_test_pred, tr_fpr, tr_tpr, tr_thr  = R[0], R[1], R[2], R[3], R[4]\n",
    "t = find_best_threshold(tr_thr, tr_fpr, tr_tpr)\n",
    "\n",
    "Y_tr_pre, tr_FP_ind = Predict(Y_train_pred, t, Y_train) # Returns Y_ored and indices of False Positive datapoints of Train\n",
    "Y_te_pre, te_FP_ind = Predict(Y_test_pred, t, Y_test)   # Returns Y_ored and indices of False Positive datapoints of Test\n",
    "\n",
    "cfm_train = c_m(Y_train, Y_tr_pre)\n",
    "cfm_tst = c_m(Y_test, Y_te_pre)\n",
    "\n",
    "plot_conf_mat(cfm_train, cfm_tst)"
   ]
  },
  {
   "cell_type": "markdown",
   "metadata": {
    "colab_type": "text",
    "id": "Kk0E2bbXNTOh"
   },
   "source": [
    "## 2. TFIDF weighted w2v"
   ]
  },
  {
   "cell_type": "code",
   "execution_count": 21,
   "metadata": {
    "colab": {
     "base_uri": "https://localhost:8080/",
     "height": 72
    },
    "colab_type": "code",
    "id": "UmTF1ifZNWYD",
    "outputId": "b2dd16c9-d80b-4c5e-8163-71d9f56ac70d"
   },
   "outputs": [
    {
     "name": "stderr",
     "output_type": "stream",
     "text": [
      "100%|██████████| 76473/76473 [02:46<00:00, 458.50it/s]\n",
      "100%|██████████| 32775/32775 [01:10<00:00, 462.72it/s]\n"
     ]
    },
    {
     "name": "stdout",
     "output_type": "stream",
     "text": [
      "(76473, 300) (32775, 300)\n"
     ]
    }
   ],
   "source": [
    "from scipy import sparse as sp\n",
    "# extracting unique words from the Train dataset. \n",
    "TFIDF = TfidfVectorizer(min_df=10)\n",
    "TFIDF.fit(X_train['essay'].values) \n",
    "IDF = dict(zip(TFIDF.get_feature_names(), list(TFIDF.idf_)))\n",
    "\n",
    "tfidf_w2v_vectors_tr = sp.csr_matrix(TFIDF_w2v(X_train['essay'], IDF))\n",
    "tfidf_w2v_vectors_te = sp.csr_matrix(TFIDF_w2v(X_test['essay'], IDF))\n",
    "\n",
    "print(tfidf_w2v_vectors_tr.shape, tfidf_w2v_vectors_te.shape)"
   ]
  },
  {
   "cell_type": "markdown",
   "metadata": {
    "colab_type": "text",
    "id": "xXsXeAnjNZ0A"
   },
   "source": [
    "##  Applying Model\n"
   ]
  },
  {
   "cell_type": "code",
   "execution_count": 22,
   "metadata": {
    "colab": {
     "base_uri": "https://localhost:8080/",
     "height": 127
    },
    "colab_type": "code",
    "id": "pB4WE5P4NWQH",
    "outputId": "21dbdda0-5ea5-42f7-ac28-4740867dfaf3"
   },
   "outputs": [
    {
     "name": "stdout",
     "output_type": "stream",
     "text": [
      "Final Data matrix\n",
      "(76473, 316) (76473,)\n",
      "(32775, 316) (32775,)\n",
      "Fitting 2 folds for each of 10 candidates, totalling 20 fits\n"
     ]
    },
    {
     "name": "stderr",
     "output_type": "stream",
     "text": [
      "[Parallel(n_jobs=-1)]: Using backend LokyBackend with 2 concurrent workers.\n",
      "[Parallel(n_jobs=-1)]: Done  20 out of  20 | elapsed: 13.7min finished\n"
     ]
    }
   ],
   "source": [
    "X_tr_2, X_te_2 = Concatenate(tfidf_w2v_vectors_tr, tfidf_w2v_vectors_te)\n",
    "clf2 = Results_Random_Search(X_tr_2, Y_train)"
   ]
  },
  {
   "cell_type": "code",
   "execution_count": 23,
   "metadata": {
    "colab": {
     "base_uri": "https://localhost:8080/",
     "height": 560
    },
    "colab_type": "code",
    "id": "LqFEBi39Nh7X",
    "outputId": "f5d7aea7-7fea-4d9f-a50a-44e05fdc3e0f"
   },
   "outputs": [
    {
     "name": "stdout",
     "output_type": "stream",
     "text": [
      "{'n_estimators': 75, 'learning_rate': 0.1}\n"
     ]
    },
    {
     "data": {
      "text/html": [
       "<html>\n",
       "<head><meta charset=\"utf-8\" /></head>\n",
       "<body>\n",
       "    <div>\n",
       "            <script src=\"https://cdnjs.cloudflare.com/ajax/libs/mathjax/2.7.5/MathJax.js?config=TeX-AMS-MML_SVG\"></script><script type=\"text/javascript\">if (window.MathJax) {MathJax.Hub.Config({SVG: {font: \"STIX-Web\"}});}</script>\n",
       "                <script type=\"text/javascript\">window.PlotlyConfig = {MathJaxConfig: 'local'};</script>\n",
       "        <script src=\"https://cdn.plot.ly/plotly-latest.min.js\"></script>    \n",
       "            <div id=\"00539037-bf04-4203-a4a1-2083c102dcc3\" class=\"plotly-graph-div\" style=\"height:525px; width:100%;\"></div>\n",
       "            <script type=\"text/javascript\">\n",
       "                \n",
       "                    window.PLOTLYENV=window.PLOTLYENV || {};\n",
       "                    \n",
       "                if (document.getElementById(\"00539037-bf04-4203-a4a1-2083c102dcc3\")) {\n",
       "                    Plotly.newPlot(\n",
       "                        '00539037-bf04-4203-a4a1-2083c102dcc3',\n",
       "                        [{\"name\": \"train\", \"type\": \"scatter3d\", \"x\": [50.0, 50.0, 10.0, 100.0, 10.0, 5.0, 75.0, 100.0, 50.0, 100.0], \"y\": [0.0001, 0.1, 0.0001, 0.001, 0.01, 0.001, 0.1, 0.2, 0.3, 0.3], \"z\": [0.6778641122749967, 0.7686531636342342, 0.6621206071121479, 0.6861632355466901, 0.6638326257760061, 0.6426066137860524, 0.7951232333691749, 0.8688341951357622, 0.8303350683718882, 0.8957831871925328]}, {\"name\": \"Cross validation\", \"type\": \"scatter3d\", \"x\": [50.0, 50.0, 10.0, 100.0, 10.0, 5.0, 75.0, 100.0, 50.0, 100.0], \"y\": [0.0001, 0.1, 0.0001, 0.001, 0.01, 0.001, 0.1, 0.2, 0.3, 0.3], \"z\": [0.6470830083305372, 0.7033473836622375, 0.6375527351494279, 0.654639570501619, 0.639373584352116, 0.6222464826564352, 0.7119023173992025, 0.7067589367087848, 0.7028090314968755, 0.6965537841585341]}],\n",
       "                        {\"scene\": {\"xaxis\": {\"title\": {\"text\": \"n_estimators\"}}, \"yaxis\": {\"title\": {\"text\": \"learning_rate\"}}, \"zaxis\": {\"title\": {\"text\": \"AUC\"}}}, \"template\": {\"data\": {\"bar\": [{\"error_x\": {\"color\": \"#2a3f5f\"}, \"error_y\": {\"color\": \"#2a3f5f\"}, \"marker\": {\"line\": {\"color\": \"#E5ECF6\", \"width\": 0.5}}, \"type\": \"bar\"}], \"barpolar\": [{\"marker\": {\"line\": {\"color\": \"#E5ECF6\", \"width\": 0.5}}, \"type\": \"barpolar\"}], \"carpet\": [{\"aaxis\": {\"endlinecolor\": \"#2a3f5f\", \"gridcolor\": \"white\", \"linecolor\": \"white\", \"minorgridcolor\": \"white\", \"startlinecolor\": \"#2a3f5f\"}, \"baxis\": {\"endlinecolor\": \"#2a3f5f\", \"gridcolor\": \"white\", \"linecolor\": \"white\", \"minorgridcolor\": \"white\", \"startlinecolor\": \"#2a3f5f\"}, \"type\": \"carpet\"}], \"choropleth\": [{\"colorbar\": {\"outlinewidth\": 0, \"ticks\": \"\"}, \"type\": \"choropleth\"}], \"contour\": [{\"colorbar\": {\"outlinewidth\": 0, \"ticks\": \"\"}, \"colorscale\": [[0.0, \"#0d0887\"], [0.1111111111111111, \"#46039f\"], [0.2222222222222222, \"#7201a8\"], [0.3333333333333333, \"#9c179e\"], [0.4444444444444444, \"#bd3786\"], [0.5555555555555556, \"#d8576b\"], [0.6666666666666666, \"#ed7953\"], [0.7777777777777778, \"#fb9f3a\"], [0.8888888888888888, \"#fdca26\"], [1.0, \"#f0f921\"]], \"type\": \"contour\"}], \"contourcarpet\": [{\"colorbar\": {\"outlinewidth\": 0, \"ticks\": \"\"}, \"type\": \"contourcarpet\"}], \"heatmap\": [{\"colorbar\": {\"outlinewidth\": 0, \"ticks\": \"\"}, \"colorscale\": [[0.0, \"#0d0887\"], [0.1111111111111111, \"#46039f\"], [0.2222222222222222, \"#7201a8\"], [0.3333333333333333, \"#9c179e\"], [0.4444444444444444, \"#bd3786\"], [0.5555555555555556, \"#d8576b\"], [0.6666666666666666, \"#ed7953\"], [0.7777777777777778, \"#fb9f3a\"], [0.8888888888888888, \"#fdca26\"], [1.0, \"#f0f921\"]], \"type\": \"heatmap\"}], \"heatmapgl\": [{\"colorbar\": {\"outlinewidth\": 0, \"ticks\": \"\"}, \"colorscale\": [[0.0, \"#0d0887\"], [0.1111111111111111, \"#46039f\"], [0.2222222222222222, \"#7201a8\"], [0.3333333333333333, \"#9c179e\"], [0.4444444444444444, \"#bd3786\"], [0.5555555555555556, \"#d8576b\"], [0.6666666666666666, \"#ed7953\"], [0.7777777777777778, \"#fb9f3a\"], [0.8888888888888888, \"#fdca26\"], [1.0, \"#f0f921\"]], \"type\": \"heatmapgl\"}], \"histogram\": [{\"marker\": {\"colorbar\": {\"outlinewidth\": 0, \"ticks\": \"\"}}, \"type\": \"histogram\"}], \"histogram2d\": [{\"colorbar\": {\"outlinewidth\": 0, \"ticks\": \"\"}, \"colorscale\": [[0.0, \"#0d0887\"], [0.1111111111111111, \"#46039f\"], [0.2222222222222222, \"#7201a8\"], [0.3333333333333333, \"#9c179e\"], [0.4444444444444444, \"#bd3786\"], [0.5555555555555556, \"#d8576b\"], [0.6666666666666666, \"#ed7953\"], [0.7777777777777778, \"#fb9f3a\"], [0.8888888888888888, \"#fdca26\"], [1.0, \"#f0f921\"]], \"type\": \"histogram2d\"}], \"histogram2dcontour\": [{\"colorbar\": {\"outlinewidth\": 0, \"ticks\": \"\"}, \"colorscale\": [[0.0, \"#0d0887\"], [0.1111111111111111, \"#46039f\"], [0.2222222222222222, \"#7201a8\"], [0.3333333333333333, \"#9c179e\"], [0.4444444444444444, \"#bd3786\"], [0.5555555555555556, \"#d8576b\"], [0.6666666666666666, \"#ed7953\"], [0.7777777777777778, \"#fb9f3a\"], [0.8888888888888888, \"#fdca26\"], [1.0, \"#f0f921\"]], \"type\": \"histogram2dcontour\"}], \"mesh3d\": [{\"colorbar\": {\"outlinewidth\": 0, \"ticks\": \"\"}, \"type\": \"mesh3d\"}], \"parcoords\": [{\"line\": {\"colorbar\": {\"outlinewidth\": 0, \"ticks\": \"\"}}, \"type\": \"parcoords\"}], \"pie\": [{\"automargin\": true, \"type\": \"pie\"}], \"scatter\": [{\"marker\": {\"colorbar\": {\"outlinewidth\": 0, \"ticks\": \"\"}}, \"type\": \"scatter\"}], \"scatter3d\": [{\"line\": {\"colorbar\": {\"outlinewidth\": 0, \"ticks\": \"\"}}, \"marker\": {\"colorbar\": {\"outlinewidth\": 0, \"ticks\": \"\"}}, \"type\": \"scatter3d\"}], \"scattercarpet\": [{\"marker\": {\"colorbar\": {\"outlinewidth\": 0, \"ticks\": \"\"}}, \"type\": \"scattercarpet\"}], \"scattergeo\": [{\"marker\": {\"colorbar\": {\"outlinewidth\": 0, \"ticks\": \"\"}}, \"type\": \"scattergeo\"}], \"scattergl\": [{\"marker\": {\"colorbar\": {\"outlinewidth\": 0, \"ticks\": \"\"}}, \"type\": \"scattergl\"}], \"scattermapbox\": [{\"marker\": {\"colorbar\": {\"outlinewidth\": 0, \"ticks\": \"\"}}, \"type\": \"scattermapbox\"}], \"scatterpolar\": [{\"marker\": {\"colorbar\": {\"outlinewidth\": 0, \"ticks\": \"\"}}, \"type\": \"scatterpolar\"}], \"scatterpolargl\": [{\"marker\": {\"colorbar\": {\"outlinewidth\": 0, \"ticks\": \"\"}}, \"type\": \"scatterpolargl\"}], \"scatterternary\": [{\"marker\": {\"colorbar\": {\"outlinewidth\": 0, \"ticks\": \"\"}}, \"type\": \"scatterternary\"}], \"surface\": [{\"colorbar\": {\"outlinewidth\": 0, \"ticks\": \"\"}, \"colorscale\": [[0.0, \"#0d0887\"], [0.1111111111111111, \"#46039f\"], [0.2222222222222222, \"#7201a8\"], [0.3333333333333333, \"#9c179e\"], [0.4444444444444444, \"#bd3786\"], [0.5555555555555556, \"#d8576b\"], [0.6666666666666666, \"#ed7953\"], [0.7777777777777778, \"#fb9f3a\"], [0.8888888888888888, \"#fdca26\"], [1.0, \"#f0f921\"]], \"type\": \"surface\"}], \"table\": [{\"cells\": {\"fill\": {\"color\": \"#EBF0F8\"}, \"line\": {\"color\": \"white\"}}, \"header\": {\"fill\": {\"color\": \"#C8D4E3\"}, \"line\": {\"color\": \"white\"}}, \"type\": \"table\"}]}, \"layout\": {\"annotationdefaults\": {\"arrowcolor\": \"#2a3f5f\", \"arrowhead\": 0, \"arrowwidth\": 1}, \"coloraxis\": {\"colorbar\": {\"outlinewidth\": 0, \"ticks\": \"\"}}, \"colorscale\": {\"diverging\": [[0, \"#8e0152\"], [0.1, \"#c51b7d\"], [0.2, \"#de77ae\"], [0.3, \"#f1b6da\"], [0.4, \"#fde0ef\"], [0.5, \"#f7f7f7\"], [0.6, \"#e6f5d0\"], [0.7, \"#b8e186\"], [0.8, \"#7fbc41\"], [0.9, \"#4d9221\"], [1, \"#276419\"]], \"sequential\": [[0.0, \"#0d0887\"], [0.1111111111111111, \"#46039f\"], [0.2222222222222222, \"#7201a8\"], [0.3333333333333333, \"#9c179e\"], [0.4444444444444444, \"#bd3786\"], [0.5555555555555556, \"#d8576b\"], [0.6666666666666666, \"#ed7953\"], [0.7777777777777778, \"#fb9f3a\"], [0.8888888888888888, \"#fdca26\"], [1.0, \"#f0f921\"]], \"sequentialminus\": [[0.0, \"#0d0887\"], [0.1111111111111111, \"#46039f\"], [0.2222222222222222, \"#7201a8\"], [0.3333333333333333, \"#9c179e\"], [0.4444444444444444, \"#bd3786\"], [0.5555555555555556, \"#d8576b\"], [0.6666666666666666, \"#ed7953\"], [0.7777777777777778, \"#fb9f3a\"], [0.8888888888888888, \"#fdca26\"], [1.0, \"#f0f921\"]]}, \"colorway\": [\"#636efa\", \"#EF553B\", \"#00cc96\", \"#ab63fa\", \"#FFA15A\", \"#19d3f3\", \"#FF6692\", \"#B6E880\", \"#FF97FF\", \"#FECB52\"], \"font\": {\"color\": \"#2a3f5f\"}, \"geo\": {\"bgcolor\": \"white\", \"lakecolor\": \"white\", \"landcolor\": \"#E5ECF6\", \"showlakes\": true, \"showland\": true, \"subunitcolor\": \"white\"}, \"hoverlabel\": {\"align\": \"left\"}, \"hovermode\": \"closest\", \"mapbox\": {\"style\": \"light\"}, \"paper_bgcolor\": \"white\", \"plot_bgcolor\": \"#E5ECF6\", \"polar\": {\"angularaxis\": {\"gridcolor\": \"white\", \"linecolor\": \"white\", \"ticks\": \"\"}, \"bgcolor\": \"#E5ECF6\", \"radialaxis\": {\"gridcolor\": \"white\", \"linecolor\": \"white\", \"ticks\": \"\"}}, \"scene\": {\"xaxis\": {\"backgroundcolor\": \"#E5ECF6\", \"gridcolor\": \"white\", \"gridwidth\": 2, \"linecolor\": \"white\", \"showbackground\": true, \"ticks\": \"\", \"zerolinecolor\": \"white\"}, \"yaxis\": {\"backgroundcolor\": \"#E5ECF6\", \"gridcolor\": \"white\", \"gridwidth\": 2, \"linecolor\": \"white\", \"showbackground\": true, \"ticks\": \"\", \"zerolinecolor\": \"white\"}, \"zaxis\": {\"backgroundcolor\": \"#E5ECF6\", \"gridcolor\": \"white\", \"gridwidth\": 2, \"linecolor\": \"white\", \"showbackground\": true, \"ticks\": \"\", \"zerolinecolor\": \"white\"}}, \"shapedefaults\": {\"line\": {\"color\": \"#2a3f5f\"}}, \"ternary\": {\"aaxis\": {\"gridcolor\": \"white\", \"linecolor\": \"white\", \"ticks\": \"\"}, \"baxis\": {\"gridcolor\": \"white\", \"linecolor\": \"white\", \"ticks\": \"\"}, \"bgcolor\": \"#E5ECF6\", \"caxis\": {\"gridcolor\": \"white\", \"linecolor\": \"white\", \"ticks\": \"\"}}, \"title\": {\"x\": 0.05}, \"xaxis\": {\"automargin\": true, \"gridcolor\": \"white\", \"linecolor\": \"white\", \"ticks\": \"\", \"title\": {\"standoff\": 15}, \"zerolinecolor\": \"white\", \"zerolinewidth\": 2}, \"yaxis\": {\"automargin\": true, \"gridcolor\": \"white\", \"linecolor\": \"white\", \"ticks\": \"\", \"title\": {\"standoff\": 15}, \"zerolinecolor\": \"white\", \"zerolinewidth\": 2}}}},\n",
       "                        {\"responsive\": true}\n",
       "                    ).then(function(){\n",
       "                            \n",
       "var gd = document.getElementById('00539037-bf04-4203-a4a1-2083c102dcc3');\n",
       "var x = new MutationObserver(function (mutations, observer) {{\n",
       "        var display = window.getComputedStyle(gd).display;\n",
       "        if (!display || display === 'none') {{\n",
       "            console.log([gd, 'removed!']);\n",
       "            Plotly.purge(gd);\n",
       "            observer.disconnect();\n",
       "        }}\n",
       "}});\n",
       "\n",
       "// Listen for the removal of the full notebook cells\n",
       "var notebookContainer = gd.closest('#notebook-container');\n",
       "if (notebookContainer) {{\n",
       "    x.observe(notebookContainer, {childList: true});\n",
       "}}\n",
       "\n",
       "// Listen for the clearing of the current output cell\n",
       "var outputEl = gd.closest('.output');\n",
       "if (outputEl) {{\n",
       "    x.observe(outputEl, {childList: true});\n",
       "}}\n",
       "\n",
       "                        })\n",
       "                };\n",
       "                \n",
       "            </script>\n",
       "        </div>\n",
       "</body>\n",
       "</html>"
      ]
     },
     "metadata": {
      "tags": []
     },
     "output_type": "display_data"
    }
   ],
   "source": [
    "Optimum = plot_Hyperparam_vs_AUC(clf2)"
   ]
  },
  {
   "cell_type": "markdown",
   "metadata": {
    "colab_type": "text",
    "id": "sXZFhRIDNhei"
   },
   "source": [
    "### Performance Testing"
   ]
  },
  {
   "cell_type": "code",
   "execution_count": 24,
   "metadata": {
    "colab": {
     "base_uri": "https://localhost:8080/",
     "height": 295
    },
    "colab_type": "code",
    "id": "vo_cz2QuNn7A",
    "outputId": "7c518f49-b3da-4ecc-b916-7b644b6dffc8"
   },
   "outputs": [
    {
     "data": {
      "image/png": "[encoded data removed]",
      "text/plain": [
       "<Figure size 432x288 with 1 Axes>"
      ]
     },
     "metadata": {
      "needs_background": "light",
      "tags": []
     },
     "output_type": "display_data"
    }
   ],
   "source": [
    "R = plot_ROC_curve(clf2, X_tr_2,X_te_2,Y_train, Y_test)"
   ]
  },
  {
   "cell_type": "markdown",
   "metadata": {
    "colab_type": "text",
    "id": "r-DymCzwNrrt"
   },
   "source": [
    "### Confusion Matrix"
   ]
  },
  {
   "cell_type": "code",
   "execution_count": 25,
   "metadata": {
    "colab": {
     "base_uri": "https://localhost:8080/",
     "height": 294
    },
    "colab_type": "code",
    "id": "BR_bTfN2NuE4",
    "outputId": "5968c3bc-6389-4004-cd70-d340671652b6"
   },
   "outputs": [
    {
     "name": "stdout",
     "output_type": "stream",
     "text": [
      "the maximum value of tpr*(1-fpr) 0.49150652351776897 for threshold 0.836\n"
     ]
    },
    {
     "data": {
      "image/png": "[encoded data removed]",
      "text/plain": [
       "<Figure size 1152x576 with 4 Axes>"
      ]
     },
     "metadata": {
      "needs_background": "light",
      "tags": []
     },
     "output_type": "display_data"
    }
   ],
   "source": [
    "Y_train_pred, Y_test_pred, tr_fpr, tr_tpr, tr_thr  = R[0], R[1], R[2], R[3], R[4]\n",
    "t = find_best_threshold(tr_thr, tr_fpr, tr_tpr)\n",
    "\n",
    "Y_tr_pre, tr_FP_ind = Predict(Y_train_pred, t, Y_train) # Returns Y_ored and indices of False Positive datapoints of Train\n",
    "Y_te_pre, te_FP_ind = Predict(Y_test_pred, t, Y_test)   # Returns Y_ored and indices of False Positive datapoints of Test\n",
    "\n",
    "cfm_train = c_m(Y_train, Y_tr_pre)\n",
    "cfm_tst = c_m(Y_test, Y_te_pre)\n",
    "\n",
    "plot_conf_mat(cfm_train, cfm_tst)"
   ]
  },
  {
   "cell_type": "markdown",
   "metadata": {
    "colab_type": "text",
    "id": "WPNkoTQGNxBv"
   },
   "source": [
    "<h1>3. Summary</h1>"
   ]
  },
  {
   "cell_type": "markdown",
   "metadata": {
    "colab_type": "text",
    "id": "inlsK93JN04G"
   },
   "source": [
    "\n",
    "\n",
    "\n",
    "\n",
    "```\n",
    "*   Total Datapoints Used               : 109248\n",
    "*   size of Vector Studied in TFIDF-W2v : 300\n",
    "*   Features Studied in TFIDF           : 10000\n",
    "```\n",
    "\n",
    "\n",
    "```\n",
    "Vectorizer   |     Model       | Hyp (n_estimaters)| Hyp (Learning rate ) |  AUC   |\n",
    "------------------------------------------------------------------------------------\n",
    "Tfidf        |  GBDT(XgBoost)  |        100        |        0.2           |  0.72  |\n",
    "Tfidf-W2v    |  GBDT(XgBoost)  |         75        |        0.1           |  0.71  |\n"
   ]
  }
 ],
 "metadata": {
  "accelerator": "GPU",
  "colab": {
   "collapsed_sections": [],
   "name": "13_GBDT_on_Donor",
   "provenance": []
  },
  "kernelspec": {
   "display_name": "Python 3",
   "language": "python",
   "name": "python3"
  },
  "language_info": {
   "codemirror_mode": {
    "name": "ipython",
    "version": 3
   },
   "file_extension": ".py",
   "mimetype": "text/x-python",
   "name": "python",
   "nbconvert_exporter": "python",
   "pygments_lexer": "ipython3",
   "version": "3.8.3"
  }
 },
 "nbformat": 4,
 "nbformat_minor": 1
}
